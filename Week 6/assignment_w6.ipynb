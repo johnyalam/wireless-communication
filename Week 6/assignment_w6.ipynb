{
  "cells": [
    {
      "metadata": {
        "collapsed": true
      },
      "cell_type": "markdown",
      "source": "# BL40A2020 Wireless Communication Systems\n\n## Assignment  week 6: Channel coding and information theory\n\n## Author:"
    },
    {
      "metadata": {},
      "cell_type": "markdown",
      "source": "### 1. Follow similar steps done in the [notes](https://github.com/pedrohjn/wireless-comm/blob/master/Week%206/week6.ipynb) to analyze the *[Binary erasure channel](https://komm.readthedocs.io/en/latest/komm.BinaryErasureChannel/)* \n\n![](https://upload.wikimedia.org/wikipedia/commons/b/b6/Binary_erasure_channel.svg)"
    },
    {
      "metadata": {},
      "cell_type": "markdown",
      "source": "**(a) Find the analytical error probability for a repetition code with size $n$ as a function of  $p$ considering that 0 and 1 are equally distributed?**\n\nHint: Remember that the only way to get an error in this scenario is to have all $n$ bits in the coded block wrong."
    },
    {
      "metadata": {
        "trusted": true
      },
      "cell_type": "code",
      "source": "",
      "execution_count": null,
      "outputs": []
    },
    {
      "metadata": {},
      "cell_type": "markdown",
      "source": "**(b) Verify your results with simulation for a repetition code of $n=6$ and $p=0.4$.** \n\nHint: You need to program/adapt the decoding. The komm decoding for repetition code is based on the Majority rule, which is not suitable for BEC."
    },
    {
      "metadata": {
        "trusted": true
      },
      "cell_type": "code",
      "source": "",
      "execution_count": null,
      "outputs": []
    },
    {
      "metadata": {},
      "cell_type": "markdown",
      "source": "**(c) Compute the capacity of this channel.**\n\nHint: $I(X;Y) = H(X) - H(X|Y) = H (X) - \\sum\\limits_{y={\\{0,1,e\\}}} p(y) H(X \\; | \\; Y=y)$"
    },
    {
      "metadata": {
        "trusted": true
      },
      "cell_type": "code",
      "source": "",
      "execution_count": null,
      "outputs": []
    },
    {
      "metadata": {},
      "cell_type": "markdown",
      "source": "**(d) Discuss how good is the repetition code in relation to the capacity based on a similar plot as the one presented in the tutorial.**"
    },
    {
      "metadata": {
        "trusted": true
      },
      "cell_type": "code",
      "source": "",
      "execution_count": null,
      "outputs": []
    },
    {
      "metadata": {
        "trusted": true
      },
      "cell_type": "markdown",
      "source": "**2. Evaluate the performance of the $M$-PSK in relation to Shannon capacity considering the symbol error probability: $$P \\approx 2 Q \\left(\\sqrt{\\dfrac{2 E_b \\log_2 M}{N_0}} \\sin\\left(  \\dfrac{\\pi}{M} \\right)  \\right).$$**\n\n**Consider the cases of $M=4,8,16$ and plot the figure $P$ versus $E_b/N_0$ in db. Additionally, plot the Shannon capacity vs. $E_b/N_0$.**\n\n**Analyze with your own words the results.**"
    },
    {
      "metadata": {
        "trusted": true
      },
      "cell_type": "code",
      "source": "",
      "execution_count": null,
      "outputs": []
    }
  ],
  "metadata": {
    "kernelspec": {
      "name": "python36",
      "display_name": "Python 3.6",
      "language": "python"
    },
    "language_info": {
      "mimetype": "text/x-python",
      "nbconvert_exporter": "python",
      "name": "python",
      "pygments_lexer": "ipython3",
      "version": "3.6.6",
      "file_extension": ".py",
      "codemirror_mode": {
        "version": 3,
        "name": "ipython"
      }
    }
  },
  "nbformat": 4,
  "nbformat_minor": 2
}
