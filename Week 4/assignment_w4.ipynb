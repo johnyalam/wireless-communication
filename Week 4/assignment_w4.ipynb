{
  "cells": [
    {
      "metadata": {
        "collapsed": true
      },
      "cell_type": "markdown",
      "source": "# BL40A2020 Wireless Communication Systems\n\n## Assignment  week 4: Probability theory and random processes\n\n## Author:"
    },
    {
      "metadata": {},
      "cell_type": "markdown",
      "source": "### 1. Follow similar steps done in the [notes](https://github.com/pedrohjn/wireless-comm/blob/master/Week%204/week4.ipynb) to analyze the *[Binary erasure channel](https://komm.readthedocs.io/en/latest/komm.BinaryErasureChannel/)* \n\n![](https://upload.wikimedia.org/wikipedia/commons/b/b6/Binary_erasure_channel.svg)"
    },
    {
      "metadata": {},
      "cell_type": "markdown",
      "source": "**(a) Consider that the probabilities related to the input sequence is the following:**\n- $q$ is the probability that the input bit is $0$ \n- $1-q$ is the probability that the input bit is $1$.\n\n**Compute analytically (as a function of $p$ and $q$):**\n- Probability that the output is $e$\n- Probability that the input is $0$ if the output is $e$ (error)\n- Probability that the input is $1$ if the output is $e$ (error)"
    },
    {
      "metadata": {
        "trusted": true
      },
      "cell_type": "code",
      "source": "",
      "execution_count": null,
      "outputs": []
    },
    {
      "metadata": {},
      "cell_type": "markdown",
      "source": "**(b) Test the analytical results via simulation (see tutorial) considering that $p=0.1$ and $q=0.4$**"
    },
    {
      "metadata": {
        "trusted": true
      },
      "cell_type": "code",
      "source": "",
      "execution_count": null,
      "outputs": []
    },
    {
      "metadata": {},
      "cell_type": "markdown",
      "source": "**2. Consider two independent Gaussian random variables so that**\n- $X$ has mean $\\mu_X$ and variance $\\sigma_X^2$\n- $Y$ has mean $\\mu_Y$ and variance $\\sigma_Y^2$\n\n**Consider a new random variable so that: $Z =  X + Y$. If $X$ and $Y$ are independent Gaussian random variables, then $\\mu_Z = \\mu_X +\\mu_Y$ and variance $\\sigma_Z^2 = \\sigma_X^2 +\\sigma_Y^2$. Plot the probaility density function and the cumulative density function of $X, Y, Z$ considering that**\n- $\\mu_X=10$ and $\\sigma_X^2=1$\n- $\\mu_Y=2$ and $\\sigma_Y^2=3$\n\n**How is the shape of this ditribution in relation to the original ones?**"
    },
    {
      "metadata": {
        "trusted": true
      },
      "cell_type": "code",
      "source": "",
      "execution_count": null,
      "outputs": []
    }
  ],
  "metadata": {
    "kernelspec": {
      "name": "python36",
      "display_name": "Python 3.6",
      "language": "python"
    },
    "language_info": {
      "mimetype": "text/x-python",
      "nbconvert_exporter": "python",
      "name": "python",
      "pygments_lexer": "ipython3",
      "version": "3.6.6",
      "file_extension": ".py",
      "codemirror_mode": {
        "version": 3,
        "name": "ipython"
      }
    }
  },
  "nbformat": 4,
  "nbformat_minor": 2
}
